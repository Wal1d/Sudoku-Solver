{
  "nbformat": 4,
  "nbformat_minor": 0,
  "metadata": {
    "colab": {
      "name": "Digit classifier.ipynb",
      "provenance": [],
      "collapsed_sections": [],
      "authorship_tag": "ABX9TyNENhecvAi2mIYcTxGI539U",
      "include_colab_link": true
    },
    "kernelspec": {
      "name": "python3",
      "display_name": "Python 3"
    },
    "language_info": {
      "name": "python"
    },
    "accelerator": "GPU"
  },
  "cells": [
    {
      "cell_type": "markdown",
      "metadata": {
        "id": "view-in-github",
        "colab_type": "text"
      },
      "source": [
        "<a href=\"https://colab.research.google.com/github/Wal1d/Sudoku-Solver/blob/main/models/Digit%20classifier.ipynb\" target=\"_parent\"><img src=\"https://colab.research.google.com/assets/colab-badge.svg\" alt=\"Open In Colab\"/></a>"
      ]
    },
    {
      "cell_type": "code",
      "metadata": {
        "id": "--P5Jgm7H9Qg"
      },
      "source": [
        "import numpy as np\n",
        "import cv2\n",
        "import matplotlib.pyplot as plt\n",
        "\n",
        "from keras import optimizers\n",
        "from keras.datasets import mnist\n",
        "from keras.utils import to_categorical\n",
        "import keras\n",
        "\n",
        "from keras.models import Sequential\n",
        "from keras.layers import Dense,MaxPool2D,Conv2D,Dropout,Flatten,Activation,Dropout\n",
        "from tensorflow.keras.callbacks import EarlyStopping"
      ],
      "execution_count": 2,
      "outputs": []
    },
    {
      "cell_type": "code",
      "metadata": {
        "colab": {
          "base_uri": "https://localhost:8080/"
        },
        "id": "adeNw9ihK4pm",
        "outputId": "acd2e478-c524-4af3-8a4a-39344dc67554"
      },
      "source": [
        "# ### loading mist hand written dataset\n",
        "\n",
        "(X_train, y_train), (X_test, y_test) = mnist.load_data()\n",
        "print(X_train.shape, y_train.shape, X_test.shape, y_test.shape)"
      ],
      "execution_count": 3,
      "outputs": [
        {
          "output_type": "stream",
          "text": [
            "Downloading data from https://storage.googleapis.com/tensorflow/tf-keras-datasets/mnist.npz\n",
            "11493376/11490434 [==============================] - 0s 0us/step\n",
            "(60000, 28, 28) (60000,) (10000, 28, 28) (10000,)\n"
          ],
          "name": "stdout"
        }
      ]
    },
    {
      "cell_type": "code",
      "metadata": {
        "id": "rmH7P0jzLGYb"
      },
      "source": [
        "# threshold for removing noise \n",
        "_,X_train_th = cv2.threshold(X_train,127,255,cv2.THRESH_BINARY)\n",
        "_,X_test_th = cv2.threshold(X_test,127,255,cv2.THRESH_BINARY)"
      ],
      "execution_count": 4,
      "outputs": []
    },
    {
      "cell_type": "code",
      "metadata": {
        "colab": {
          "base_uri": "https://localhost:8080/"
        },
        "id": "O22ALvCBLLE_",
        "outputId": "5ecb35b6-9d1a-444e-d389-f1aefbc69976"
      },
      "source": [
        "X_train = X_train_th.reshape(-1,28,28,1)\n",
        "X_test = X_test_th.reshape(-1,28,28,1)\n",
        "\n",
        "\n",
        "y_train = to_categorical(y_train, num_classes = 10)\n",
        "y_test = to_categorical(y_test, num_classes = 10)\n",
        "\n",
        "print(X_train.shape, y_train.shape)\n",
        "print(X_test.shape, y_test.shape)\n"
      ],
      "execution_count": 5,
      "outputs": [
        {
          "output_type": "stream",
          "text": [
            "(60000, 28, 28, 1) (60000, 10)\n",
            "(10000, 28, 28, 1) (10000, 10)\n"
          ],
          "name": "stdout"
        }
      ]
    },
    {
      "cell_type": "code",
      "metadata": {
        "colab": {
          "base_uri": "https://localhost:8080/"
        },
        "id": "NdS-FVy-LN22",
        "outputId": "b0f46fe0-cd33-4532-fd7a-e7f0fede6b53"
      },
      "source": [
        "InputShape = (28,28,1)\n",
        "\n",
        "\n",
        "model = Sequential()\n",
        "model.add(Conv2D(input_shape=(InputShape), filters=64, kernel_size=(3,3), padding='same', activation='relu'))\n",
        "model.add(Conv2D(filters=64, kernel_size=(3,3), padding='same', activation='relu'))\n",
        "model.add(MaxPool2D(pool_size=(2,2), strides=(2,2)))\n",
        "\n",
        "model.add(Conv2D(filters=64, kernel_size=(3,3), padding='same', activation='relu'))\n",
        "model.add(Conv2D(filters=64, kernel_size=(3,3), padding='same', activation='relu'))\n",
        "model.add(MaxPool2D(pool_size=(2,2), strides=(2,2)))\n",
        "\n",
        "model.add(Conv2D(filters=64, kernel_size=(3,3), padding='same', activation='relu'))\n",
        "model.add(Conv2D(filters=64, kernel_size=(3,3), padding='same', activation='relu'))\n",
        "model.add(Conv2D(filters=64, kernel_size=(3,3), padding='same', activation='relu'))\n",
        "model.add(MaxPool2D(pool_size=(2,2), strides=(2,2)))\n",
        "\n",
        "model.add(Conv2D(filters=64, kernel_size=(3,3), padding='same', activation='relu'))\n",
        "model.add(Conv2D(filters=64, kernel_size=(3,3), padding='same', activation='relu'))\n",
        "model.add(Conv2D(filters=64, kernel_size=(3,3), padding='same', activation='relu'))\n",
        "model.add(MaxPool2D(pool_size=(2,2), strides=(2,2)))\n",
        "\n",
        "model.add(Flatten())\n",
        "\n",
        "model.add(Dense(units=4080, activation='relu'))\n",
        "model.add(Dropout(0.5))\n",
        "model.add(Dense(units=4080, activation='relu'))\n",
        "model.add(Dropout(0.5))\n",
        "model.add(Dense(units=10, activation='softmax'))\n",
        "model.summary()"
      ],
      "execution_count": 6,
      "outputs": [
        {
          "output_type": "stream",
          "text": [
            "Model: \"sequential\"\n",
            "_________________________________________________________________\n",
            "Layer (type)                 Output Shape              Param #   \n",
            "=================================================================\n",
            "conv2d (Conv2D)              (None, 28, 28, 64)        640       \n",
            "_________________________________________________________________\n",
            "conv2d_1 (Conv2D)            (None, 28, 28, 64)        36928     \n",
            "_________________________________________________________________\n",
            "max_pooling2d (MaxPooling2D) (None, 14, 14, 64)        0         \n",
            "_________________________________________________________________\n",
            "conv2d_2 (Conv2D)            (None, 14, 14, 64)        36928     \n",
            "_________________________________________________________________\n",
            "conv2d_3 (Conv2D)            (None, 14, 14, 64)        36928     \n",
            "_________________________________________________________________\n",
            "max_pooling2d_1 (MaxPooling2 (None, 7, 7, 64)          0         \n",
            "_________________________________________________________________\n",
            "conv2d_4 (Conv2D)            (None, 7, 7, 64)          36928     \n",
            "_________________________________________________________________\n",
            "conv2d_5 (Conv2D)            (None, 7, 7, 64)          36928     \n",
            "_________________________________________________________________\n",
            "conv2d_6 (Conv2D)            (None, 7, 7, 64)          36928     \n",
            "_________________________________________________________________\n",
            "max_pooling2d_2 (MaxPooling2 (None, 3, 3, 64)          0         \n",
            "_________________________________________________________________\n",
            "conv2d_7 (Conv2D)            (None, 3, 3, 64)          36928     \n",
            "_________________________________________________________________\n",
            "conv2d_8 (Conv2D)            (None, 3, 3, 64)          36928     \n",
            "_________________________________________________________________\n",
            "conv2d_9 (Conv2D)            (None, 3, 3, 64)          36928     \n",
            "_________________________________________________________________\n",
            "max_pooling2d_3 (MaxPooling2 (None, 1, 1, 64)          0         \n",
            "_________________________________________________________________\n",
            "flatten (Flatten)            (None, 64)                0         \n",
            "_________________________________________________________________\n",
            "dense (Dense)                (None, 4080)              265200    \n",
            "_________________________________________________________________\n",
            "dropout (Dropout)            (None, 4080)              0         \n",
            "_________________________________________________________________\n",
            "dense_1 (Dense)              (None, 4080)              16650480  \n",
            "_________________________________________________________________\n",
            "dropout_1 (Dropout)          (None, 4080)              0         \n",
            "_________________________________________________________________\n",
            "dense_2 (Dense)              (None, 10)                40810     \n",
            "=================================================================\n",
            "Total params: 17,289,482\n",
            "Trainable params: 17,289,482\n",
            "Non-trainable params: 0\n",
            "_________________________________________________________________\n"
          ],
          "name": "stdout"
        }
      ]
    },
    {
      "cell_type": "code",
      "metadata": {
        "id": "V-3TzyUILiUK"
      },
      "source": [
        "early_stop = EarlyStopping(monitor='val_loss', mode='min', verbose=1, patience=25)"
      ],
      "execution_count": 7,
      "outputs": []
    },
    {
      "cell_type": "code",
      "metadata": {
        "colab": {
          "base_uri": "https://localhost:8080/"
        },
        "id": "4U8aXnUhL5mH",
        "outputId": "fed0523c-9a1f-492d-dc9d-7705cd2a74cd"
      },
      "source": [
        "model.compile(optimizer='adam', loss='categorical_crossentropy', metrics=[\"accuracy\"])\n",
        "BatchSize = 64\n",
        "Epochs = 20\n",
        "history = model.fit(X_train, y_train, batch_size=BatchSize, epochs=Epochs,validation_data=(X_test,y_test), callbacks=[early_stop])"
      ],
      "execution_count": 9,
      "outputs": [
        {
          "output_type": "stream",
          "text": [
            "Epoch 1/20\n",
            "938/938 [==============================] - 47s 15ms/step - loss: 0.5129 - accuracy: 0.8287 - val_loss: 0.0664 - val_accuracy: 0.9812\n",
            "Epoch 2/20\n",
            "938/938 [==============================] - 13s 14ms/step - loss: 0.0918 - accuracy: 0.9762 - val_loss: 0.0902 - val_accuracy: 0.9791\n",
            "Epoch 3/20\n",
            "938/938 [==============================] - 13s 14ms/step - loss: 0.0778 - accuracy: 0.9807 - val_loss: 0.0797 - val_accuracy: 0.9793\n",
            "Epoch 4/20\n",
            "938/938 [==============================] - 13s 14ms/step - loss: 0.0612 - accuracy: 0.9848 - val_loss: 0.0471 - val_accuracy: 0.9883\n",
            "Epoch 5/20\n",
            "938/938 [==============================] - 13s 14ms/step - loss: 0.0490 - accuracy: 0.9875 - val_loss: 0.1219 - val_accuracy: 0.9764\n",
            "Epoch 6/20\n",
            "938/938 [==============================] - 13s 14ms/step - loss: 0.0624 - accuracy: 0.9860 - val_loss: 0.0539 - val_accuracy: 0.9877\n",
            "Epoch 7/20\n",
            "938/938 [==============================] - 13s 14ms/step - loss: 0.0507 - accuracy: 0.9874 - val_loss: 0.0740 - val_accuracy: 0.9815\n",
            "Epoch 8/20\n",
            "938/938 [==============================] - 13s 14ms/step - loss: 0.0564 - accuracy: 0.9874 - val_loss: 0.0807 - val_accuracy: 0.9815\n",
            "Epoch 9/20\n",
            "938/938 [==============================] - 13s 14ms/step - loss: 0.0434 - accuracy: 0.9893 - val_loss: 0.0564 - val_accuracy: 0.9866\n",
            "Epoch 10/20\n",
            "938/938 [==============================] - 13s 14ms/step - loss: 0.0540 - accuracy: 0.9871 - val_loss: 0.0494 - val_accuracy: 0.9888\n",
            "Epoch 11/20\n",
            "938/938 [==============================] - 13s 14ms/step - loss: 0.0408 - accuracy: 0.9903 - val_loss: 0.0619 - val_accuracy: 0.9853\n",
            "Epoch 12/20\n",
            "938/938 [==============================] - 13s 14ms/step - loss: 0.0383 - accuracy: 0.9915 - val_loss: 0.0651 - val_accuracy: 0.9875\n",
            "Epoch 13/20\n",
            "938/938 [==============================] - 13s 14ms/step - loss: 0.0482 - accuracy: 0.9894 - val_loss: 0.0565 - val_accuracy: 0.9876\n",
            "Epoch 14/20\n",
            "938/938 [==============================] - 13s 14ms/step - loss: 0.0436 - accuracy: 0.9906 - val_loss: 0.0547 - val_accuracy: 0.9880\n",
            "Epoch 15/20\n",
            "938/938 [==============================] - 13s 14ms/step - loss: 0.0383 - accuracy: 0.9910 - val_loss: 0.0913 - val_accuracy: 0.9863\n",
            "Epoch 16/20\n",
            "938/938 [==============================] - 13s 14ms/step - loss: 0.0414 - accuracy: 0.9904 - val_loss: 0.0713 - val_accuracy: 0.9859\n",
            "Epoch 17/20\n",
            "938/938 [==============================] - 13s 14ms/step - loss: 0.0456 - accuracy: 0.9885 - val_loss: 0.0697 - val_accuracy: 0.9863\n",
            "Epoch 18/20\n",
            "938/938 [==============================] - 13s 14ms/step - loss: 0.0406 - accuracy: 0.9909 - val_loss: 0.0790 - val_accuracy: 0.9820\n",
            "Epoch 19/20\n",
            "938/938 [==============================] - 13s 14ms/step - loss: 0.0421 - accuracy: 0.9902 - val_loss: 0.0666 - val_accuracy: 0.9851\n",
            "Epoch 20/20\n",
            "938/938 [==============================] - 13s 14ms/step - loss: 0.0462 - accuracy: 0.9899 - val_loss: 0.0581 - val_accuracy: 0.9890\n"
          ],
          "name": "stdout"
        }
      ]
    },
    {
      "cell_type": "code",
      "metadata": {
        "colab": {
          "base_uri": "https://localhost:8080/",
          "height": 350
        },
        "id": "RMGjbmpYMFHA",
        "outputId": "8e057821-ea6c-44e7-ab2f-56738f90be4c"
      },
      "source": [
        "def plot_model_history(model_history):\n",
        "\n",
        "    fig, axs = plt.subplots(1,2,figsize=(15,5))\n",
        "    axs[0].plot(range(1,len(model_history.history['accuracy'])+1),model_history.history['accuracy'])\n",
        "    axs[0].plot(range(1,len(model_history.history['val_accuracy'])+1),model_history.history['val_accuracy'])\n",
        "    axs[0].set_title('Model Accuracy')\n",
        "    axs[0].set_ylabel('Accuracy')\n",
        "    axs[0].set_xlabel('Epoch')\n",
        "    axs[0].set_xticks(np.arange(1,len(model_history.history['accuracy'])+1))\n",
        "    axs[0].legend(['train', 'val'], loc='best')\n",
        "    \n",
        "    \n",
        "    axs[1].plot(range(1,len(model_history.history['loss'])+1),model_history.history['loss'])\n",
        "    axs[1].plot(range(1,len(model_history.history['val_loss'])+1),model_history.history['val_loss'])\n",
        "    axs[1].set_title('Model Loss')\n",
        "    axs[1].set_ylabel('Loss')\n",
        "    axs[1].set_xlabel('Epoch')\n",
        "    axs[1].set_xticks(np.arange(1,len(model_history.history['loss'])+1))\n",
        "    axs[1].legend(['train', 'val'], loc='best')\n",
        "    fig.savefig('plot.png')\n",
        "    plt.show()\n",
        "\n",
        "plot_model_history(history)"
      ],
      "execution_count": 10,
      "outputs": [
        {
          "output_type": "display_data",
          "data": {
            "image/png": "[encoded data removed]",
            "text/plain": [
              "<Figure size 1080x360 with 2 Axes>"
            ]
          },
          "metadata": {
            "tags": [],
            "needs_background": "light"
          }
        }
      ]
    },
    {
      "cell_type": "code",
      "metadata": {
        "id": "6DCL9UfMMvHX"
      },
      "source": [
        "model.save('digit_classifier.h5')"
      ],
      "execution_count": 11,
      "outputs": []
    },
    {
      "cell_type": "code",
      "metadata": {
        "id": "GNiWTblyNbyv"
      },
      "source": [
        ""
      ],
      "execution_count": null,
      "outputs": []
    }
  ]
}