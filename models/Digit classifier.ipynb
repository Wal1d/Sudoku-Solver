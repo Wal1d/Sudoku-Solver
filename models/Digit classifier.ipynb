{
  "nbformat": 4,
  "nbformat_minor": 0,
  "metadata": {
    "colab": {
      "name": "Digit classifier.ipynb",
      "provenance": [],
      "collapsed_sections": [],
      "authorship_tag": "ABX9TyMCxNVaiKGbelORZQNq2nPl",
      "include_colab_link": true
    },
    "kernelspec": {
      "name": "python3",
      "display_name": "Python 3"
    },
    "language_info": {
      "name": "python"
    },
    "accelerator": "GPU"
  },
  "cells": [
    {
      "cell_type": "markdown",
      "metadata": {
        "id": "view-in-github",
        "colab_type": "text"
      },
      "source": [
        "<a href=\"https://colab.research.google.com/github/Wal1d/Sudoku-Solver/blob/main/models/Digit%20classifier.ipynb\" target=\"_parent\"><img src=\"https://colab.research.google.com/assets/colab-badge.svg\" alt=\"Open In Colab\"/></a>"
      ]
    },
    {
      "cell_type": "code",
      "metadata": {
        "id": "--P5Jgm7H9Qg"
      },
      "source": [
        "import numpy as np\n",
        "import cv2\n",
        "import matplotlib.pyplot as plt\n",
        "\n",
        "from keras import optimizers\n",
        "from keras.datasets import mnist\n",
        "from keras.utils import to_categorical\n",
        "import keras\n",
        "\n",
        "from keras.models import Sequential\n",
        "from keras.layers import Dense,MaxPool2D,Conv2D,Dropout,Flatten,Activation,Dropout\n",
        "from tensorflow.keras.callbacks import EarlyStopping"
      ],
      "execution_count": 1,
      "outputs": []
    },
    {
      "cell_type": "code",
      "metadata": {
        "colab": {
          "base_uri": "https://localhost:8080/"
        },
        "id": "adeNw9ihK4pm",
        "outputId": "a32d9c9c-2d1d-4a8e-e70c-1502fb688966"
      },
      "source": [
        "# ### loading mist hand written dataset\n",
        "\n",
        "(X_train, y_train), (X_test, y_test) = mnist.load_data()\n",
        "print(X_train.shape, y_train.shape, X_test.shape, y_test.shape)"
      ],
      "execution_count": 2,
      "outputs": [
        {
          "output_type": "stream",
          "text": [
            "Downloading data from https://storage.googleapis.com/tensorflow/tf-keras-datasets/mnist.npz\n",
            "11493376/11490434 [==============================] - 0s 0us/step\n",
            "(60000, 28, 28) (60000,) (10000, 28, 28) (10000,)\n"
          ],
          "name": "stdout"
        }
      ]
    },
    {
      "cell_type": "code",
      "metadata": {
        "id": "rmH7P0jzLGYb"
      },
      "source": [
        "# threshold for removing noise \n",
        "_,X_train_th = cv2.threshold(X_train,127,255,cv2.THRESH_BINARY)\n",
        "_,X_test_th = cv2.threshold(X_test,127,255,cv2.THRESH_BINARY)"
      ],
      "execution_count": 3,
      "outputs": []
    },
    {
      "cell_type": "code",
      "metadata": {
        "colab": {
          "base_uri": "https://localhost:8080/"
        },
        "id": "O22ALvCBLLE_",
        "outputId": "743eb420-6cf6-4959-8871-13f7542f25ec"
      },
      "source": [
        "X_train = X_train_th.reshape(-1,28,28,1)\n",
        "X_test = X_test_th.reshape(-1,28,28,1)\n",
        "\n",
        "\n",
        "y_train = to_categorical(y_train, num_classes = 10)\n",
        "y_test = to_categorical(y_test, num_classes = 10)\n",
        "\n",
        "print(X_train.shape, y_train.shape)\n",
        "print(X_test.shape, y_test.shape)\n"
      ],
      "execution_count": 4,
      "outputs": [
        {
          "output_type": "stream",
          "text": [
            "(60000, 28, 28, 1) (60000, 10)\n",
            "(10000, 28, 28, 1) (10000, 10)\n"
          ],
          "name": "stdout"
        }
      ]
    },
    {
      "cell_type": "code",
      "metadata": {
        "colab": {
          "base_uri": "https://localhost:8080/"
        },
        "id": "NdS-FVy-LN22",
        "outputId": "51863d8c-6718-40bc-bc0b-14120d578d3e"
      },
      "source": [
        "InputShape = (28,28,1)\n",
        "\n",
        "\n",
        "model = Sequential()\n",
        "model.add(Conv2D(input_shape=(InputShape), filters=64, kernel_size=(3,3), padding='same', activation='relu'))\n",
        "model.add(Conv2D(filters=64, kernel_size=(3,3), padding='same', activation='relu'))\n",
        "model.add(MaxPool2D(pool_size=(2,2), strides=(2,2)))\n",
        "\n",
        "model.add(Conv2D(filters=64, kernel_size=(3,3), padding='same', activation='relu'))\n",
        "model.add(Conv2D(filters=64, kernel_size=(3,3), padding='same', activation='relu'))\n",
        "model.add(MaxPool2D(pool_size=(2,2), strides=(2,2)))\n",
        "\n",
        "model.add(Conv2D(filters=64, kernel_size=(3,3), padding='same', activation='relu'))\n",
        "model.add(Conv2D(filters=64, kernel_size=(3,3), padding='same', activation='relu'))\n",
        "model.add(Conv2D(filters=64, kernel_size=(3,3), padding='same', activation='relu'))\n",
        "model.add(MaxPool2D(pool_size=(2,2), strides=(2,2)))\n",
        "\n",
        "model.add(Conv2D(filters=64, kernel_size=(3,3), padding='same', activation='relu'))\n",
        "model.add(Conv2D(filters=64, kernel_size=(3,3), padding='same', activation='relu'))\n",
        "model.add(Conv2D(filters=64, kernel_size=(3,3), padding='same', activation='relu'))\n",
        "model.add(MaxPool2D(pool_size=(2,2), strides=(2,2)))\n",
        "\n",
        "model.add(Flatten())\n",
        "\n",
        "model.add(Dense(units=4080, activation='relu'))\n",
        "model.add(Dropout(0.5))\n",
        "model.add(Dense(units=4080, activation='relu'))\n",
        "model.add(Dropout(0.5))\n",
        "model.add(Dense(units=10, activation='softmax'))\n",
        "model.summary()"
      ],
      "execution_count": 5,
      "outputs": [
        {
          "output_type": "stream",
          "text": [
            "Model: \"sequential\"\n",
            "_________________________________________________________________\n",
            "Layer (type)                 Output Shape              Param #   \n",
            "=================================================================\n",
            "conv2d (Conv2D)              (None, 28, 28, 64)        640       \n",
            "_________________________________________________________________\n",
            "conv2d_1 (Conv2D)            (None, 28, 28, 64)        36928     \n",
            "_________________________________________________________________\n",
            "max_pooling2d (MaxPooling2D) (None, 14, 14, 64)        0         \n",
            "_________________________________________________________________\n",
            "conv2d_2 (Conv2D)            (None, 14, 14, 64)        36928     \n",
            "_________________________________________________________________\n",
            "conv2d_3 (Conv2D)            (None, 14, 14, 64)        36928     \n",
            "_________________________________________________________________\n",
            "max_pooling2d_1 (MaxPooling2 (None, 7, 7, 64)          0         \n",
            "_________________________________________________________________\n",
            "conv2d_4 (Conv2D)            (None, 7, 7, 64)          36928     \n",
            "_________________________________________________________________\n",
            "conv2d_5 (Conv2D)            (None, 7, 7, 64)          36928     \n",
            "_________________________________________________________________\n",
            "conv2d_6 (Conv2D)            (None, 7, 7, 64)          36928     \n",
            "_________________________________________________________________\n",
            "max_pooling2d_2 (MaxPooling2 (None, 3, 3, 64)          0         \n",
            "_________________________________________________________________\n",
            "conv2d_7 (Conv2D)            (None, 3, 3, 64)          36928     \n",
            "_________________________________________________________________\n",
            "conv2d_8 (Conv2D)            (None, 3, 3, 64)          36928     \n",
            "_________________________________________________________________\n",
            "conv2d_9 (Conv2D)            (None, 3, 3, 64)          36928     \n",
            "_________________________________________________________________\n",
            "max_pooling2d_3 (MaxPooling2 (None, 1, 1, 64)          0         \n",
            "_________________________________________________________________\n",
            "flatten (Flatten)            (None, 64)                0         \n",
            "_________________________________________________________________\n",
            "dense (Dense)                (None, 4080)              265200    \n",
            "_________________________________________________________________\n",
            "dropout (Dropout)            (None, 4080)              0         \n",
            "_________________________________________________________________\n",
            "dense_1 (Dense)              (None, 4080)              16650480  \n",
            "_________________________________________________________________\n",
            "dropout_1 (Dropout)          (None, 4080)              0         \n",
            "_________________________________________________________________\n",
            "dense_2 (Dense)              (None, 10)                40810     \n",
            "=================================================================\n",
            "Total params: 17,289,482\n",
            "Trainable params: 17,289,482\n",
            "Non-trainable params: 0\n",
            "_________________________________________________________________\n"
          ],
          "name": "stdout"
        }
      ]
    },
    {
      "cell_type": "code",
      "metadata": {
        "id": "V-3TzyUILiUK"
      },
      "source": [
        "early_stop = EarlyStopping(monitor='val_loss', mode='min', verbose=1, patience=25)"
      ],
      "execution_count": 6,
      "outputs": []
    },
    {
      "cell_type": "code",
      "metadata": {
        "colab": {
          "base_uri": "https://localhost:8080/"
        },
        "id": "4U8aXnUhL5mH",
        "outputId": "fd331041-2415-4bc0-c3ee-c692e0062ff6"
      },
      "source": [
        "model.compile(optimizer='adam', loss='categorical_crossentropy', metrics=[\"accuracy\"])\n",
        "BatchSize = 64\n",
        "Epochs = 20\n",
        "history = model.fit(X_train, y_train, batch_size=BatchSize, epochs=Epochs,validation_data=(X_test,y_test), callbacks=[early_stop])"
      ],
      "execution_count": 7,
      "outputs": [
        {
          "output_type": "stream",
          "text": [
            "Epoch 1/20\n",
            "938/938 [==============================] - 47s 15ms/step - loss: 0.5398 - accuracy: 0.8146 - val_loss: 0.0777 - val_accuracy: 0.9792\n",
            "Epoch 2/20\n",
            "938/938 [==============================] - 13s 14ms/step - loss: 0.0899 - accuracy: 0.9772 - val_loss: 0.0575 - val_accuracy: 0.9849\n",
            "Epoch 3/20\n",
            "938/938 [==============================] - 14s 14ms/step - loss: 0.0698 - accuracy: 0.9824 - val_loss: 0.0763 - val_accuracy: 0.9825\n",
            "Epoch 4/20\n",
            "938/938 [==============================] - 14s 15ms/step - loss: 0.0617 - accuracy: 0.9846 - val_loss: 0.0537 - val_accuracy: 0.9863\n",
            "Epoch 5/20\n",
            "938/938 [==============================] - 14s 15ms/step - loss: 0.0585 - accuracy: 0.9862 - val_loss: 0.0694 - val_accuracy: 0.9863\n",
            "Epoch 6/20\n",
            "938/938 [==============================] - 14s 15ms/step - loss: 0.0552 - accuracy: 0.9877 - val_loss: 0.0459 - val_accuracy: 0.9880\n",
            "Epoch 7/20\n",
            "938/938 [==============================] - 14s 14ms/step - loss: 0.0496 - accuracy: 0.9883 - val_loss: 0.0587 - val_accuracy: 0.9852\n",
            "Epoch 8/20\n",
            "938/938 [==============================] - 14s 15ms/step - loss: 0.0491 - accuracy: 0.9888 - val_loss: 0.0539 - val_accuracy: 0.9884\n",
            "Epoch 9/20\n",
            "938/938 [==============================] - 14s 15ms/step - loss: 0.0461 - accuracy: 0.9894 - val_loss: 0.0710 - val_accuracy: 0.9856\n",
            "Epoch 10/20\n",
            "938/938 [==============================] - 14s 15ms/step - loss: 0.0490 - accuracy: 0.9894 - val_loss: 0.0568 - val_accuracy: 0.9881\n",
            "Epoch 11/20\n",
            "938/938 [==============================] - 14s 15ms/step - loss: 0.0496 - accuracy: 0.9889 - val_loss: 0.0690 - val_accuracy: 0.9870\n",
            "Epoch 12/20\n",
            "938/938 [==============================] - 13s 14ms/step - loss: 0.0461 - accuracy: 0.9895 - val_loss: 0.0667 - val_accuracy: 0.9844\n",
            "Epoch 13/20\n",
            "938/938 [==============================] - 13s 14ms/step - loss: 0.0364 - accuracy: 0.9919 - val_loss: 0.0579 - val_accuracy: 0.9875\n",
            "Epoch 14/20\n",
            "938/938 [==============================] - 13s 14ms/step - loss: 0.0404 - accuracy: 0.9912 - val_loss: 0.0561 - val_accuracy: 0.9890\n",
            "Epoch 15/20\n",
            "938/938 [==============================] - 13s 14ms/step - loss: 0.0423 - accuracy: 0.9913 - val_loss: 0.0594 - val_accuracy: 0.9882\n",
            "Epoch 16/20\n",
            "938/938 [==============================] - 13s 14ms/step - loss: 0.0315 - accuracy: 0.9928 - val_loss: 0.0761 - val_accuracy: 0.9813\n",
            "Epoch 17/20\n",
            "938/938 [==============================] - 14s 14ms/step - loss: 0.0482 - accuracy: 0.9885 - val_loss: 0.0728 - val_accuracy: 0.9854\n",
            "Epoch 18/20\n",
            "938/938 [==============================] - 14s 14ms/step - loss: 0.0358 - accuracy: 0.9910 - val_loss: 0.0732 - val_accuracy: 0.9872\n",
            "Epoch 19/20\n",
            "938/938 [==============================] - 14s 14ms/step - loss: 0.0406 - accuracy: 0.9904 - val_loss: 0.0613 - val_accuracy: 0.9877\n",
            "Epoch 20/20\n",
            "938/938 [==============================] - 13s 14ms/step - loss: 0.0499 - accuracy: 0.9896 - val_loss: 0.0650 - val_accuracy: 0.9879\n"
          ],
          "name": "stdout"
        }
      ]
    },
    {
      "cell_type": "code",
      "metadata": {
        "colab": {
          "base_uri": "https://localhost:8080/",
          "height": 350
        },
        "id": "RMGjbmpYMFHA",
        "outputId": "cd13fef1-9ddf-4f4b-f651-6f3c797b324b"
      },
      "source": [
        "def plot_model_history(model_history):\n",
        "\n",
        "    fig, axs = plt.subplots(1,2,figsize=(15,5))\n",
        "    axs[0].plot(range(1,len(model_history.history['accuracy'])+1),model_history.history['accuracy'])\n",
        "    axs[0].plot(range(1,len(model_history.history['val_accuracy'])+1),model_history.history['val_accuracy'])\n",
        "    axs[0].set_title('Model Accuracy')\n",
        "    axs[0].set_ylabel('Accuracy')\n",
        "    axs[0].set_xlabel('Epoch')\n",
        "    axs[0].set_xticks(np.arange(1,len(model_history.history['accuracy'])+1))\n",
        "    axs[0].legend(['train', 'val'], loc='best')\n",
        "    \n",
        "    \n",
        "    axs[1].plot(range(1,len(model_history.history['loss'])+1),model_history.history['loss'])\n",
        "    axs[1].plot(range(1,len(model_history.history['val_loss'])+1),model_history.history['val_loss'])\n",
        "    axs[1].set_title('Model Loss')\n",
        "    axs[1].set_ylabel('Loss')\n",
        "    axs[1].set_xlabel('Epoch')\n",
        "    axs[1].set_xticks(np.arange(1,len(model_history.history['loss'])+1))\n",
        "    axs[1].legend(['train', 'val'], loc='best')\n",
        "    fig.savefig('plot.png')\n",
        "    plt.show()\n",
        "\n",
        "plot_model_history(history)"
      ],
      "execution_count": 8,
      "outputs": [
        {
          "output_type": "display_data",
          "data": {
            "image/png": "[encoded data removed]",
            "text/plain": [
              "<Figure size 1080x360 with 2 Axes>"
            ]
          },
          "metadata": {
            "tags": [],
            "needs_background": "light"
          }
        }
      ]
    },
    {
      "cell_type": "code",
      "metadata": {
        "id": "6DCL9UfMMvHX"
      },
      "source": [
        "model.save('digit_classifier.h5')"
      ],
      "execution_count": 9,
      "outputs": []
    },
    {
      "cell_type": "code",
      "metadata": {
        "id": "GNiWTblyNbyv",
        "outputId": "de5f379f-6a39-4423-c300-344513f31139",
        "colab": {
          "base_uri": "https://localhost:8080/"
        }
      },
      "source": [
        "results = model.evaluate(X_test, y_test)"
      ],
      "execution_count": 11,
      "outputs": [
        {
          "output_type": "stream",
          "text": [
            "313/313 [==============================] - 1s 4ms/step - loss: 0.0650 - accuracy: 0.9879\n"
          ],
          "name": "stdout"
        }
      ]
    },
    {
      "cell_type": "code",
      "metadata": {
        "id": "xrAXPY9NQdwj",
        "outputId": "5c90b461-dfea-4acd-dabd-8b3f1d39aa6a",
        "colab": {
          "base_uri": "https://localhost:8080/"
        }
      },
      "source": [
        "print(results)\n"
      ],
      "execution_count": 12,
      "outputs": [
        {
          "output_type": "stream",
          "text": [
            "[0.06501168012619019, 0.9879000186920166]\n"
          ],
          "name": "stdout"
        }
      ]
    }
  ]
}